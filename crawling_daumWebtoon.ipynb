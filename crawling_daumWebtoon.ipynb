{
 "cells": [
  {
   "cell_type": "code",
   "execution_count": null,
   "metadata": {},
   "outputs": [],
   "source": [
    "pip install requests"
   ]
  },
  {
   "cell_type": "code",
   "execution_count": null,
   "metadata": {},
   "outputs": [],
   "source": [
    "pip install beautifulsoup4"
   ]
  },
  {
   "cell_type": "code",
   "execution_count": null,
   "metadata": {},
   "outputs": [],
   "source": [
    "pip install notebook"
   ]
  },
  {
   "cell_type": "code",
   "execution_count": null,
   "metadata": {},
   "outputs": [],
   "source": [
    "pip install bs4"
   ]
  },
  {
   "cell_type": "code",
   "execution_count": null,
   "metadata": {},
   "outputs": [],
   "source": [
    "import requests"
   ]
  },
  {
   "cell_type": "code",
   "execution_count": null,
   "metadata": {},
   "outputs": [],
   "source": [
    "pip install selenium"
   ]
  },
  {
   "cell_type": "code",
   "execution_count": null,
   "metadata": {},
   "outputs": [],
   "source": [
    "#selenium 사용\n",
    "    #  https://chromedriver.chromium.org/downloads 접속 후 크롬 드라이버 다운 (내 크롬과 같은 버전으로 다운로드)\n",
    "    #  크롬 정보 보기 |  크롬 실행 -> 설정(우측 위 점3개 클릭 후 설정) -> 크롬 정보\n",
    "    #  다운 후 압축풀기 -> jupyter notebook 홈에서 exe 파일 업로드 (파이썬 파일과 크롬 드라이버 경로가 같아야 함)"
   ]
  },
  {
   "cell_type": "code",
   "execution_count": null,
   "metadata": {},
   "outputs": [],
   "source": [
    "# 1.3\n",
    "# 썸네일 웹 -> 모바일 변경버전 (1.1)\n",
    "# 파일 저장시 ? / 등 특수문자 저장 안되는 거 수정 완료 (1.2)\n",
    "    # ? 같은 특수문자를 제거하고 파일을 저장 -> 제거 안하고 저장하는 방법 or 저장 후 다시 특수문자 붙이기(os모듈)\n",
    "# 자동 로그인 추가 (1.3)\n",
    "import time\n",
    "import getpass\n",
    "from selenium.webdriver.common.keys import Keys\n",
    "\n",
    "from selenium import webdriver\n",
    " #-*- coding: UTF-8 -*-\n",
    "from selenium.webdriver.chrome.options import Options\n",
    "from selenium.webdriver.support.wait import WebDriverWait\n",
    "\n",
    "print(\"아이디를 입력해주세요\")\n",
    "kakao_id = input()\n",
    "print(\"비밀번호를 입력해주세요\")\n",
    "kakao_password = getpass.getpass()\n",
    "\n",
    "print()\n",
    "\n",
    "\n",
    "chromedriver = './chromedriver.exe' # 크롬 드라이버 경로\n",
    "\n",
    "\n",
    "options = webdriver.ChromeOptions()\n",
    "options.add_argument('headless')    # 실행했을 때 웹 브라우저를 띄우지 않는 headless chrome 옵션 적용\n",
    "options.add_argument('disable-gpu')    # GPU 사용 안함 --> headless 설정, gpu 사용 안함 : 속도 향상\n",
    "options.add_argument('lang=ko_KR')    # 언어 설정\n",
    "options.add_argument(\"user-agent=Mozilla/5.0 (Windows NT 6.1; WOW64; Trident/7.0; rv:11.0) like Gecko\") # 봇 차단을 막기 위한 우회\n",
    "driver = webdriver.Chrome(chromedriver, options=options) #  옵션 적용\n",
    "\n",
    "driver.implicitly_wait(100) # 위 설정을 적용하는 데 시간이 걸리기 때문에 기다려주기 (최대 100초를 기다리되, 중간에 완료되면 바로 넘어감)\n",
    "\n",
    "\n",
    "\n",
    "driver.get(\"http://webtoon.daum.net/#sort=free&genre=&tab=finish\") # driver.get : () 링크로 접속 --> 다음 완결 웹툰 페이지 접속\n",
    "\n",
    "data_name = driver.find_elements_by_class_name('tit_wt') # 웹툰 이름 크롤링\n",
    "data_link = driver.find_elements_by_class_name('link_wt') # 웹툰 경로 크롤링\n",
    "data_author = driver.find_elements_by_class_name('txt_info') # 웹툰 작가 크롤링\n",
    "        # 무료 완결 웹툰에서 크롤링을 하면 마지막에 연재웹툰 1~5위 완결웹툰 1~5위 링크가 추가로 나옴\n",
    "        # --> 링크가 이름보다 10개 많음(다 무료 완결 아니니 신경 X)\n",
    "\n",
    "import csv \n",
    "f = open(\"write_temp.csv\",\"w\", encoding = \"utf-8\") # write.csv 파일 열기 (파일이 없어도 알아서 만들어줌)\n",
    "                                              # 파일 경로는 현재 파이썬 파일(crawling_daumWebtoon) 경로와 같음\n",
    "wr = csv.writer(f) # csv 파일을 수정할 것을 선언\n",
    "    \n",
    "for i in range(0, len(data_name)):# 반복의 기준은 완결 웹툰 이름 (링크는 갯수가 다름)\n",
    "    webtoonName = data_name[i].text # 태그의 내용 (<span> 내용 </span>)을 읽어올 땐 .text\n",
    "    \n",
    "    driver_temp = webdriver.Chrome(chromedriver, options=options) #  옵션 적용\n",
    "    driver_temp.implicitly_wait(100)\n",
    "    \n",
    "    link = \"http://m.\" + data_link[i].get_attribute('href')[7:] # 모바일 링크로 변경\n",
    "    last_link = link.replace(\" \", \"\") # 위 코드에서 생기는 공백 제거 ( http://m, 과 링크 사이에 공백이 생김)\n",
    "    \n",
    "    \n",
    "    driver_temp.get(last_link) # 완결 웹툰 상세페이지 받아오기\n",
    "    \n",
    "    if data_name[i].text[0:2] == \"성인\": # 성인웹툰은 이름 크롤링시 웹툰 이름 앞에 성인이 붙음\n",
    "        webtoonName = webtoonName[3:]\n",
    "                                                 # --> 웹툰 이름 앞 두글자가 성인이면 성인웹툰으로 판단 후 제외\n",
    "\n",
    "        driver_temp.find_element_by_class_name(\"link_login.link_klogin\").click()\n",
    "\n",
    "        driver_temp.find_element_by_name('email').send_keys(kakao_id)\n",
    "        driver_temp.find_element_by_name('password').send_keys(kakao_password)\n",
    "        driver_temp.find_element_by_class_name('btn_g.btn_confirm.submit').click()\n",
    "        # print(\"login_end \\n\")\n",
    "    \n",
    "    webtoonGenre = \"\" #변수선언\n",
    "    print(webtoonName) # 웹툰 이름 출력\n",
    "    print(\"작가 : \", data_author[i].text) # 작가 출력\n",
    "\n",
    "    webtoonStory = driver_temp.find_element_by_class_name('txt_story') # 스토리 받아오기\n",
    "    print(webtoonStory.text) # 웹툰 스토리 출력\n",
    "        \n",
    "        \n",
    "    webtoonGenre = driver_temp.find_element_by_class_name('txt_genre') # 장르 받아오기\n",
    "    print(\"장르 : \", webtoonGenre.text) # 웹툰 장르 출력\n",
    "        \n",
    "    data_thumb = driver_temp.find_element_by_class_name('img_thumb') # 웹툰 썸네일 -> 모바일 웹툰 상세페이지에서 받으면 배경이 없음\n",
    "    print(\"썸네일 : \", data_thumb.get_attribute('src')) # 썸네일링크 출력    \n",
    "        \n",
    "    import urllib\n",
    "    import re\n",
    "    \n",
    "    url_image = data_thumb.get_attribute('src')\n",
    "        \n",
    "    webtoonName_pre = re.sub('[^\\s0-9a-zA-Zㄱ-힗!@#$%*()]', '', str(webtoonName)) # 저장이 안되는 특수기호 제거\n",
    "    save1 = \"D:/thumb_daum/\" + webtoonName_pre + \".png\"  # 이미지를 저장 할 경로\n",
    "                        # 주소 앞에 자신한테 맞는 주소로 변경 -> 파일 만들어져있지 않으면 오류남 (D 드라이브에 thumb 폴더가 있는 상태로 실행)\n",
    "\n",
    "\n",
    "    hdr = {'User-Agent': 'Mozilla/5.0'} # 봇 차단 방지를 위한 헤더 추가 (파이어폭스로 설정)\n",
    "\n",
    "    req = urllib.request.Request(url_image, headers = hdr); \n",
    "    file_temp = urllib.request.urlopen(req).read()\n",
    "\n",
    "    file_save = open(save1,'wb')  # w : 쓰기, r : 읽기 , a : 더하기, wb : 바이너리로 쓰기\n",
    "    file_save.write(file_temp)\n",
    "    file_save.close()\n",
    "    \n",
    "        \n",
    "    link = \"http://m.\" + data_link[i].get_attribute('href')[7:] # 모바일 링크로 변경\n",
    "    last_link = link.replace(\" \", \"\") # 위 코드에서 생기는 공백 제거 ( http://m, 과 링크 사이에 공백이 생김)\n",
    "    print(\"링크 : \", last_link) # 링크 출력\n",
    "    \n",
    "    print(\"\") #구분을 위한 줄 띄우기\n",
    "    \n",
    "    \n",
    "    wr.writerow([webtoonName,data_author[i].text,data_thumb.get_attribute('src'),webtoonGenre.text,webtoonStory.text,last_link])\n",
    " \n",
    "    \n",
    "    #csv_writer.writerow((data_name[i].text, data_author[i].text, img_thumb, txt_genre, txt_story, last_link))\n",
    "    \n",
    "    driver_temp.quit()\n",
    "\n",
    "f.close()\n",
    "\n",
    "driver.quit()"
   ]
  }
 ],
 "metadata": {
  "kernelspec": {
   "display_name": "Python 3",
   "language": "python",
   "name": "python3"
  },
  "language_info": {
   "codemirror_mode": {
    "name": "ipython",
    "version": 3
   },
   "file_extension": ".py",
   "mimetype": "text/x-python",
   "name": "python",
   "nbconvert_exporter": "python",
   "pygments_lexer": "ipython3",
   "version": "3.8.3"
  }
 },
 "nbformat": 4,
 "nbformat_minor": 4
}
